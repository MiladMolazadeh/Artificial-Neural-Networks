{
  "nbformat": 4,
  "nbformat_minor": 0,
  "metadata": {
    "kernelspec": {
      "name": "python3",
      "display_name": "Python 3"
    },
    "language_info": {
      "codemirror_mode": {
        "name": "ipython",
        "version": 3
      },
      "file_extension": ".py",
      "mimetype": "text/x-python",
      "name": "python",
      "nbconvert_exporter": "python",
      "pygments_lexer": "ipython3",
      "version": "3.6.2"
    },
    "colab": {
      "name": "NN-simple-nn-xor-final.ipynb",
      "provenance": [],
      "collapsed_sections": []
    },
    "accelerator": "GPU"
  },
  "cells": [
    {
      "cell_type": "code",
      "metadata": {
        "id": "hzRegtfe3IFB",
        "colab_type": "code",
        "outputId": "1dd8ff1e-e373-42c1-9335-21e2e2b5e773",
        "colab": {
          "base_uri": "https://localhost:8080/",
          "height": 295
        }
      },
      "source": [
        "import numpy as np\n",
        "######################\n",
        "# Create random data\n",
        "#####################\n",
        "Positive = np.random.normal(100,15,1000)\n",
        "Negative = np.random.normal(-100,15,1000)\n",
        "PN=[(x,y) for x,y in zip(Positive,Negative)] \n",
        "NP=[(x,y) for x,y in zip(Negative,Positive)]\n",
        "PP=[(x,y) for x,y in zip(Positive,-1*(Negative))]\n",
        "NN=[(x,y) for x,y in zip(-1*(Positive),1*(Negative))]\n",
        "\n",
        "\n",
        "N_class = PN + NP # green(negative)\n",
        "P_class = PP + NN # red(positive)\n",
        "\n",
        "X = np.concatenate([N_class, P_class])\n",
        "d_neg = np.full((2000,1),-1)\n",
        "d_pos = np.full((2000,1),1)\n",
        "\n",
        "X = np.concatenate([N_class, P_class])\n",
        "# change the dtype to 'float64' \n",
        "\n",
        "y = np.concatenate([d_neg, d_pos])\n",
        "\n",
        "########################\n",
        "# Data Visualization\n",
        "########################\n",
        "import matplotlib.pyplot as plt\n",
        "plt.plot([x for x,y in N_class], [y for x,y in N_class], 'go', label='P')\n",
        "plt.plot([x for x,y in P_class], [y for x,y in P_class], 'ro', label='N')\n",
        "\n",
        "plt.title('synthetic data-set for XOR problem')\n",
        "plt.xlabel('x')\n",
        "plt.ylabel('y')\n",
        "plt.legend(loc='lower right')\n",
        "\n",
        "plt.show()"
      ],
      "execution_count": 0,
      "outputs": [
        {
          "output_type": "display_data",
          "data": {
            "image/png": "[encoded data removed]",
            "text/plain": [
              "<Figure size 432x288 with 1 Axes>"
            ]
          },
          "metadata": {
            "tags": []
          }
        }
      ]
    },
    {
      "cell_type": "markdown",
      "metadata": {
        "id": "4Kg4i3IrYuun",
        "colab_type": "text"
      },
      "source": [
        "# ساده ترین مدل یک مدل مک لاچ هست که مابین دوخط را اره و بیرون را نه تشخیص میدهد \n",
        "\n",
        "\n",
        " # با شبکه چند لایه هم میتوان مسئله را هر کرد \n",
        "\n",
        "\n",
        "#از هردو روش استفاده میکنیم"
      ]
    },
    {
      "cell_type": "code",
      "metadata": {
        "id": "fwQyigh1YtpK",
        "colab_type": "code",
        "outputId": "8bcfdb1b-f244-4d64-a1cb-31762ad51d75",
        "colab": {
          "base_uri": "https://localhost:8080/",
          "height": 86
        }
      },
      "source": [
        "\n",
        "\n",
        "def Mcclutch(p1,p2):\n",
        "  if p1 == -1 or p2 == -1:\n",
        "    return -1\n",
        "  else:\n",
        "    return 1\n",
        "\n",
        "\n",
        "# x2 + x1 -120 = 0\n",
        "# -x2 -x1 -50 = 0\n",
        "\n",
        "w1 = np.array([[1,1]])\n",
        "w2 = -w1\n",
        "b1 = 120\n",
        "b2 = 50\n",
        "\n",
        "# Testing\n",
        "test = np.array([[-100,100],[100,-100],[100,100],[-100,-100]])\n",
        "\n",
        "\n",
        "# Predicting\n",
        "u=0\n",
        "for i in range(len(test)):\n",
        "  u = (test[i].dot(w1.T) + b1)\n",
        "  u2 = (test[i].dot(w2.T) + b2)\n",
        "\n",
        "  p1 = step(u)\n",
        "  p2 = step(u2)\n",
        "  print(\"My Test: {} , Predict: {} \".format(test[i],Mcclutch(p1,p2)))\n",
        "  \n"
      ],
      "execution_count": 0,
      "outputs": [
        {
          "output_type": "stream",
          "text": [
            "My Test: [-100  100] , Predict: 1 \n",
            "My Test: [ 100 -100] , Predict: 1 \n",
            "My Test: [100 100] , Predict: -1 \n",
            "My Test: [-100 -100] , Predict: -1 \n"
          ],
          "name": "stdout"
        }
      ]
    },
    {
      "cell_type": "code",
      "metadata": {
        "id": "E9ruENUEJQBp",
        "colab_type": "code",
        "colab": {}
      },
      "source": [
        "def step(x):\n",
        "    print(x)\n",
        "    if x.all() < 1:\n",
        "      return -1\n",
        "    else:\n",
        "      return 1"
      ],
      "execution_count": 0,
      "outputs": []
    },
    {
      "cell_type": "code",
      "metadata": {
        "id": "4Wp8buKCKl0Q",
        "colab_type": "code",
        "outputId": "9eaf7dd7-3cf6-49cb-ddad-984712e572b9",
        "colab": {
          "base_uri": "https://localhost:8080/",
          "height": 139
        }
      },
      "source": [
        "X"
      ],
      "execution_count": 0,
      "outputs": [
        {
          "output_type": "execute_result",
          "data": {
            "text/plain": [
              "array([[  93.81695344,  -67.37046697],\n",
              "       [  98.88986413,  -97.17586572],\n",
              "       [  86.06594612, -109.8015282 ],\n",
              "       ...,\n",
              "       [-119.66717163,  -90.09139806],\n",
              "       [-110.81793912,  -71.26055675],\n",
              "       [-113.12245492, -112.00441308]])"
            ]
          },
          "metadata": {
            "tags": []
          },
          "execution_count": 142
        }
      ]
    },
    {
      "cell_type": "code",
      "metadata": {
        "id": "riGdZbzB2aU7",
        "colab_type": "code",
        "colab": {}
      },
      "source": [
        "# Sigmoid Function\n",
        "def sigmoid(x):\n",
        "    return 1 / (1 + np.exp(-x))\n",
        "\n",
        "def tanh(x): \n",
        "\treturn np.tanh(x) \n",
        "\n",
        "def tanh_derivative(x): \n",
        "\t\treturn 1.0 - tanh(x) ** 2\n",
        "    \n",
        "# Derivative of Sigmoid Function\n",
        "def derivative_sigmoid(x):\n",
        "    return x * (1 - x)"
      ],
      "execution_count": 0,
      "outputs": []
    },
    {
      "cell_type": "code",
      "metadata": {
        "id": "XEnOevjG2bK0",
        "colab_type": "code",
        "colab": {}
      },
      "source": [
        "# number of training iterations\n",
        "epoch = 10000\n",
        "learning_rate = 0.1"
      ],
      "execution_count": 0,
      "outputs": []
    },
    {
      "cell_type": "markdown",
      "metadata": {
        "id": "bXddABda5ZvM",
        "colab_type": "text"
      },
      "source": [
        "شبکه از یک لایه خروجی، سه لایه مخفی و همچنین یک لایه ورودی است\n",
        "لایه ورودی مختصات را میگیرد"
      ]
    },
    {
      "cell_type": "code",
      "metadata": {
        "id": "WoiQJl6H5YoO",
        "colab_type": "code",
        "colab": {}
      },
      "source": [
        "# number of features in the input dataset\n",
        "d_in = X.shape[1] \n",
        "\n",
        "# hidden layer dimension\n",
        "d_h = 7\n",
        "\n",
        "# output layer dimension\n",
        "d_out = 1"
      ],
      "execution_count": 0,
      "outputs": []
    },
    {
      "cell_type": "markdown",
      "metadata": {
        "id": "O_zlIl0O52KK",
        "colab_type": "text"
      },
      "source": [
        "مقداردهی وزن و بایاس"
      ]
    },
    {
      "cell_type": "code",
      "metadata": {
        "id": "fVVnTbfc50n9",
        "colab_type": "code",
        "outputId": "db684393-effc-43d7-9238-325f88d0e91c",
        "colab": {
          "base_uri": "https://localhost:8080/",
          "height": 278
        }
      },
      "source": [
        "np.random.seed(100)\n",
        "wh = np.random.uniform(size=(d_in, d_h))\n",
        "bh = np.random.uniform(size=(1, d_h))\n",
        "wout = np.random.uniform(size=(d_h, d_out))\n",
        "bout = np.random.uniform(size=(1, d_out))\n",
        "print(\"Weight Matrix: \\n\",wh)\n",
        "print(\"\\nBias Matrix: \\n\",bh)\n",
        "print(\"\\nWeight output Matrix: \\n\",wout)\n",
        "print(\"\\nBias output Matrix: \\n\",bout)"
      ],
      "execution_count": 0,
      "outputs": [
        {
          "output_type": "stream",
          "text": [
            "Weight Matrix: \n",
            " [[0.54340494 0.27836939 0.42451759 0.84477613]\n",
            " [0.00471886 0.12156912 0.67074908 0.82585276]]\n",
            "\n",
            "Bias Matrix: \n",
            " [[0.13670659 0.57509333 0.89132195 0.20920212]]\n",
            "\n",
            "Weight output Matrix: \n",
            " [[0.18532822]\n",
            " [0.10837689]\n",
            " [0.21969749]\n",
            " [0.97862378]]\n",
            "\n",
            "Bias output Matrix: \n",
            " [[0.81168315]]\n"
          ],
          "name": "stdout"
        }
      ]
    },
    {
      "cell_type": "markdown",
      "metadata": {
        "id": "mwqx4N4J8CVf",
        "colab_type": "text"
      },
      "source": [
        "فرآیند یادگیری به تعداد تکرار مشخص شده انجام میگیرد\n",
        "\n",
        "یک بار ورودی ها با ماتریس وزن ضرب داخلی شده و با بایاس ضرب میشوند\n",
        "\n",
        "سپس با استفاده از تابع فعالیت و ماتریس وزن لایه آخر و بایاس پیش بینی میکنیم\n",
        "\n",
        "مرحله بعد انتشار به عقب است که با استفاده از مشتق تابع فعالیت و الگوریتم گرادیان میزان اصلاح ماتریس وزت ها را بدست آورده و آنها را آپدیت میکنیم\n",
        "\n",
        "این کار به تعداد تکرار انجام میشود\n",
        "\n",
        "\n"
      ]
    },
    {
      "cell_type": "code",
      "metadata": {
        "id": "-GbDqbrK2d9L",
        "colab_type": "code",
        "outputId": "5af92927-7efe-4cac-925e-3c060bbaa977",
        "colab": {
          "base_uri": "https://localhost:8080/",
          "height": 89
        }
      },
      "source": [
        "np.set_printoptions(suppress=True) #prevent numpy exponential \n",
        "import progressbar\n",
        "from time import sleep\n",
        "bar = progressbar.ProgressBar(maxval=epoch, \\\n",
        "    widgets=[progressbar.Bar('▉', '[', ']'), ' ', progressbar.Percentage()])\n",
        "bar.start()\n",
        "for i in range(epoch):\n",
        "    bar.update(i+1)\n",
        "\n",
        "    # Forward pass h = x*w + b\n",
        "    h = sigmoid(X.dot(wh) + bh) \n",
        "    y_pred = tanh(h.dot(wout) + bout)\n",
        "    \n",
        "    # Compute and print loss\n",
        "    # loss = (y_pred - y).sum()\n",
        "    # if i % 5000 == 0:\n",
        "    #     print('\\nEpoch', i, ' loss is:', loss)\n",
        "\n",
        "    # Backpropagation output layer by using activation function derivate\n",
        "    grad_y_pred = (y - y_pred) * tanh_derivative(y_pred)\n",
        "    grad_wout = h.T.dot(grad_y_pred)\n",
        "    grad_bout = np.sum(grad_y_pred, axis=0, keepdims=True)\n",
        "\n",
        "    # Backpropagation hidden layer by using gradient of network prediction\n",
        "    grad_h = grad_y_pred.dot(wout.T) * tanh_derivative(h)\n",
        "    grad_wh = X.T.dot(grad_h)\n",
        "    grad_bh = np.sum(grad_h, axis=0, keepdims=True)\n",
        "\n",
        "    # Update output layer weight matrix\n",
        "    wout += grad_wout * learning_rate\n",
        "\n",
        "    # Update output layer bias matrix\n",
        "    bout += grad_bout * learning_rate\n",
        "\n",
        "    # Update hidden layer weight matrix\n",
        "    wh += grad_wh * learning_rate\n",
        "\n",
        "    # Update hidden layer weight matrix\n",
        "    bh += grad_bh * learning_rate\n",
        "    \n",
        "bar.finish() "
      ],
      "execution_count": 0,
      "outputs": [
        {
          "output_type": "stream",
          "text": [
            "\r                                                                               \r\r[                                                                        ] N/A%/usr/local/lib/python3.6/dist-packages/ipykernel_launcher.py:2: RuntimeWarning: overflow encountered in exp\n",
            "  \n",
            "[▉▉▉▉▉▉▉▉▉▉▉▉▉▉▉▉▉▉▉▉▉▉▉▉▉▉▉▉▉▉▉▉▉▉▉▉▉▉▉▉▉▉▉▉▉▉▉▉▉▉▉▉▉▉▉▉▉▉▉▉▉▉▉▉▉▉▉▉▉▉▉▉] 100%\n"
          ],
          "name": "stderr"
        }
      ]
    },
    {
      "cell_type": "code",
      "metadata": {
        "id": "e3e5cKla2tLJ",
        "colab_type": "code",
        "outputId": "27df7d80-ce42-4292-b31f-6790aa7bf876",
        "colab": {
          "base_uri": "https://localhost:8080/",
          "height": 52
        }
      },
      "source": [
        "test = np.array(([\n",
        "       [ 100, -100],#green\n",
        "       [ -100, -100],#red\n",
        "       ]))\n",
        "\n",
        "f = tanh(test.dot(wh) + bh) \n",
        "pred = tanh(f.dot(wout) + bout)\n",
        "\n",
        "print(pred)"
      ],
      "execution_count": 0,
      "outputs": [
        {
          "output_type": "stream",
          "text": [
            "[[ 1.]\n",
            " [-1.]]\n"
          ],
          "name": "stdout"
        }
      ]
    },
    {
      "cell_type": "code",
      "metadata": {
        "id": "WYsjfyHyGFNN",
        "colab_type": "code",
        "colab": {}
      },
      "source": [
        "from sklearn.naive_bayes import MultinomialNB\n",
        "from sklearn.svm import LinearSVC\n",
        "from sklearn.model_selection import train_test_split\n",
        "from sklearn.metrics import accuracy_score\n",
        "from sklearn.ensemble import RandomForestClassifier\n",
        "from sklearn.tree import DecisionTreeClassifier\n",
        "from sklearn import metrics\n",
        "from sklearn.metrics import roc_auc_score, accuracy_score\n",
        "\n",
        "def modelEvaluation(predictions, y_test_set):\n",
        "    #Print model evaluation to predicted result \n",
        "    \n",
        "    print (\"\\nAccuracy on test set: {:.4f}\".format(accuracy_score(y_test_set, predictions)))\n",
        "    print(\"---------------------------\")\n",
        "    print (\"\\nAUC score : {:.4f}\".format(roc_auc_score(y_test_set, predictions)))\n",
        "    print(\"---------------------------\")\n",
        "    print (\"\\nClassification report : \\n\", metrics.classification_report(y_test_set, predictions))\n",
        "    print(\"---------------------------\")\n",
        "    print (\"\\nConfusion Matrix : \\n\", metrics.confusion_matrix(y_test_set, predictions))\n",
        "    print(\"\\n---------------------------\\n\")"
      ],
      "execution_count": 0,
      "outputs": []
    },
    {
      "cell_type": "code",
      "metadata": {
        "id": "iZkmoiRbGUnD",
        "colab_type": "code",
        "outputId": "9063a1bb-4c7d-4973-86bf-785044007e10",
        "colab": {
          "base_uri": "https://localhost:8080/",
          "height": 506
        }
      },
      "source": [
        "for i in range(len(y_pred)):\n",
        "  if y_pred[i] > 0:\n",
        "    y_pred[i] = 1\n",
        "  else:\n",
        "    y_pred[i] = -1\n",
        "\n",
        "modelEvaluation(y_pred, y)"
      ],
      "execution_count": 0,
      "outputs": [
        {
          "output_type": "stream",
          "text": [
            "\n",
            "Accuracy on test set: 0.5000\n",
            "---------------------------\n",
            "\n",
            "AUC score : 0.5000\n",
            "---------------------------\n",
            "\n",
            "Classification report : \n",
            "               precision    recall  f1-score   support\n",
            "\n",
            "          -1       0.50      1.00      0.67      2000\n",
            "           1       0.00      0.00      0.00      2000\n",
            "\n",
            "    accuracy                           0.50      4000\n",
            "   macro avg       0.25      0.50      0.33      4000\n",
            "weighted avg       0.25      0.50      0.33      4000\n",
            "\n",
            "---------------------------\n",
            "\n",
            "Confusion Matrix : \n",
            " [[2000    0]\n",
            " [2000    0]]\n",
            "\n",
            "---------------------------\n",
            "\n"
          ],
          "name": "stdout"
        },
        {
          "output_type": "stream",
          "text": [
            "/usr/local/lib/python3.6/dist-packages/sklearn/metrics/classification.py:1437: UndefinedMetricWarning: Precision and F-score are ill-defined and being set to 0.0 in labels with no predicted samples.\n",
            "  'precision', 'predicted', average, warn_for)\n"
          ],
          "name": "stderr"
        }
      ]
    },
    {
      "cell_type": "code",
      "metadata": {
        "id": "KG0b0kReGYgP",
        "colab_type": "code",
        "colab": {}
      },
      "source": [
        ""
      ],
      "execution_count": 0,
      "outputs": []
    }
  ]
}