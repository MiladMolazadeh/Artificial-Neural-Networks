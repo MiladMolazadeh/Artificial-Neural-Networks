{
  "nbformat": 4,
  "nbformat_minor": 0,
  "metadata": {
    "kernelspec": {
      "name": "python3",
      "display_name": "Python 3"
    },
    "language_info": {
      "codemirror_mode": {
        "name": "ipython",
        "version": 3
      },
      "file_extension": ".py",
      "mimetype": "text/x-python",
      "name": "python",
      "nbconvert_exporter": "python",
      "pygments_lexer": "ipython3",
      "version": "3.6.2"
    },
    "colab": {
      "name": "NN-numpy-simple-nn.ipynb",
      "provenance": [],
      "collapsed_sections": []
    },
    "accelerator": "GPU"
  },
  "cells": [
    {
      "cell_type": "code",
      "metadata": {
        "id": "TrwvcFbTzKfo",
        "colab_type": "code",
        "outputId": "f16c33bb-dbcf-48f5-ee9a-ca675ef25d98",
        "colab": {
          "base_uri": "https://localhost:8080/",
          "height": 295
        }
      },
      "source": [
        "import numpy as np\n",
        "######################\n",
        "# Create random data\n",
        "#####################\n",
        "random_positive = np.random.normal(100,45,100)\n",
        "random_negative = np.random.normal(-100,45,100)\n",
        "\n",
        "N=[(x,y) for x,y in zip(random_positive,random_negative)] \n",
        "N_O = np.full(100, -1)\n",
        "\n",
        "P=[(x,y) for x,y in zip(random_negative,random_positive)]\n",
        "P_O = np.full(100, 1)\n",
        "\n",
        "\n",
        "X = np.concatenate([N, P])\n",
        "d = np.concatenate([N_O, P_O])\n",
        "\n",
        "########################\n",
        "# Data Visualization\n",
        "########################\n",
        "import matplotlib.pyplot as plt\n",
        "plt.plot([x for x,y in N], [y for x,y in N], 'ro', label='N')\n",
        "plt.plot([x for x,y in P], [y for x,y in P], 'go', label='P')\n",
        "\n",
        "plt.title('synthetic linearly separable data')\n",
        "plt.xlabel('x')\n",
        "plt.ylabel('y')\n",
        "plt.legend(loc='lower right')\n",
        "\n",
        "plt.show()"
      ],
      "execution_count": 0,
      "outputs": [
        {
          "output_type": "display_data",
          "data": {
            "image/png": "[encoded data removed]",
            "text/plain": [
              "<Figure size 432x288 with 1 Axes>"
            ]
          },
          "metadata": {
            "tags": []
          }
        }
      ]
    },
    {
      "cell_type": "markdown",
      "metadata": {
        "id": "iqu5RSnIvi_o",
        "colab_type": "text"
      },
      "source": [
        "ساده ترین مدل شبکه مک کلاچ هست ولی کد زیر با یک شبکه یک لایه ورودی را میگیرد و ماتریس وزن ها را با استفاده از مشتق آپدیت میکند\n"
      ]
    },
    {
      "cell_type": "code",
      "metadata": {
        "id": "-i-0IymczKf1",
        "colab_type": "code",
        "colab": {}
      },
      "source": [
        "from numpy import exp, array, random, dot, tanh \n",
        "\n",
        "class NeuralNetwork(): \n",
        "\t\n",
        "\tdef __init__(self): \n",
        "\t\t \n",
        "\t\trandom.seed(1997) \n",
        "\t\tself.weight_matrix = random.random((2, 1))\n",
        "\t\tself.af_name = 'sigmoid'\n",
        "\t \n",
        "\tdef relu(self, x):\n",
        "\t\treturn x if x>0 else 0\n",
        "\n",
        "\tdef tanh(self, x): \n",
        "\t\treturn tanh(x) \n",
        "\t\n",
        "\tdef sigmoid(self, x):\n",
        "\t\treturn 1/(1 + np.exp(-x))\n",
        "\n",
        "\tdef elu(self, x,alpha):\n",
        "\t\treturn x if x >= 0 else alpha*(e^x -1)\n",
        "\n",
        "\tdef elu_derivative(self, x,alpha):\n",
        "\t\treturn 1 if x > 0 else alpha*np.exp(x)\n",
        " \n",
        "\tdef tanh_derivative(self, x): \n",
        "\t\treturn 1.0 - self.tanh(x) ** 2\n",
        "\n",
        "\tdef sigmoid_derivative(self, x):\n",
        "\t\tf = 1/(1 + np.exp(-x))\n",
        "\t\treturn f * (1 - f)\n",
        "\t\n",
        "\tdef relu_derivative(x):\n",
        "\t\treturn 1 if x > 0 else 0\n",
        "\n",
        "\tdef activation_function(self,name,x):\n",
        "\t\tif self.name == 'relu':\n",
        "\t\t\treturn self.relu(x)\n",
        "\t\telif self.name == 'tanh':\n",
        "\t\t\treturn self.tanh(x)\n",
        "\t\telif self.name == 'sigmoid':\n",
        "\t\t\treturn self.sigmoid(x)\n",
        "\n",
        "\tdef get_derivative(self, x):\n",
        "\t\tif self.name == 'relu':\n",
        "\t\t\treturn self.relu_derivative(x)\n",
        "\t\telif self.name == 'tanh':\n",
        "\t\t\treturn self.tanh_derivative(x)\n",
        "\t\telif self.name == 'sigmoid':\n",
        "\t\t\treturn self.sigmoid_derivative(x)\n",
        "\t \n",
        "\tdef forward_propagation(self,name, inputs):\n",
        "\t\tself.name = name\n",
        "\t\treturn self.activation_function(name, dot(inputs, self.weight_matrix)) \n",
        "\t\n",
        "\t# training the neural network. \n",
        "\tdef train(self,name, train_inputs, train_outputs,\tepoch): \n",
        "\t\tself.name = name\t\t\t\t\t\t\n",
        "\t\tfor iteration in range(epoch): \n",
        "\t\t\toutput = self.forward_propagation(name, train_inputs) \n",
        "\n",
        "\t\t\terror = train_outputs - output \n",
        "\n",
        "\t\t\tadjustment = dot(train_inputs.T, error *\n",
        "\t\t\t\t\t\t\tself.get_derivative(output)) \n",
        "\t\t\t\t\t\t\t\n",
        "\t\t\tself.weight_matrix += adjustment "
      ],
      "execution_count": 0,
      "outputs": []
    },
    {
      "cell_type": "markdown",
      "metadata": {
        "id": "LjOU-uXYvTl7",
        "colab_type": "text"
      },
      "source": [
        "با استفاده از چندین تابع فعال ساز وبه عنوان ورودی و نقطه مورد نظر پیش بینی انجام میشود\n"
      ]
    },
    {
      "cell_type": "code",
      "metadata": {
        "id": "RTuLvw8iUkaE",
        "colab_type": "code",
        "outputId": "e4826ed1-1f24-4a0c-a517-dc39629b89ed",
        "colab": {
          "base_uri": "https://localhost:8080/",
          "height": 156
        }
      },
      "source": [
        "\tneural_network = NeuralNetwork() \n",
        "\t\n",
        "\tprint ('Random weights at the start of training') \n",
        "\tprint (neural_network.weight_matrix) \n",
        "\n",
        "\ttrain_inputs = array(X) \n",
        "\ttrain_outputs = array([d]).T \n",
        "\n",
        "\tneural_network.train('tanh', train_inputs, train_outputs, 100000) \n",
        "\n",
        "\tprint ('New weights after training') \n",
        "\tprint (neural_network.weight_matrix) \n",
        "\n",
        "\tprint (\"Testing network on new examples ->\") \n",
        "\tprint (neural_network.forward_propagation('tanh', array([-50, -100]))) "
      ],
      "execution_count": 0,
      "outputs": [
        {
          "output_type": "stream",
          "text": [
            "Random weights at the start of training\n",
            "[[0.77114815]\n",
            " [0.07475717]]\n",
            "New weights after training\n",
            "[[-17281.29350289]\n",
            " [ 16646.51571836]]\n",
            "Testing network on new examples ->\n",
            "[-1.]\n"
          ],
          "name": "stdout"
        }
      ]
    },
    {
      "cell_type": "code",
      "metadata": {
        "id": "nShTDDlqDmYQ",
        "colab_type": "code",
        "colab": {}
      },
      "source": [
        ""
      ],
      "execution_count": 0,
      "outputs": []
    }
  ]
}