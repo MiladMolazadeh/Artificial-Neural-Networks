{
  "nbformat": 4,
  "nbformat_minor": 0,
  "metadata": {
    "colab": {
      "name": "NN-mlp-tensorflow.ipynb",
      "provenance": [],
      "collapsed_sections": []
    },
    "kernelspec": {
      "name": "python3",
      "display_name": "Python 3"
    }
  },
  "cells": [
    {
      "cell_type": "code",
      "metadata": {
        "id": "hw-jFmgQ_3oO",
        "colab_type": "code",
        "outputId": "cb2c4dc4-fa0b-4855-bdeb-401e4ca32c16",
        "colab": {
          "base_uri": "https://localhost:8080/",
          "height": 86
        }
      },
      "source": [
        "from __future__ import print_function\n",
        "\n",
        "# import MNIST data\n",
        "from tensorflow.examples.tutorials.mnist import input_data \n",
        "mnist = input_data.read_data_sets(\"/data\", one_hot=True)\n",
        "\n",
        "import tensorflow as tf\n",
        "\n",
        "learning_rate = 0.001\n",
        "training_epochs = 40\n",
        "batch_size = 100\n",
        "display_step = 1\n",
        "\n",
        "n_hidden1 = 256\n",
        "n_hidden2 = 256\n",
        "n_input = len(mnist.train.images[0])\n",
        "n_classes = len(mnist.train.labels[0])\n",
        "\n",
        "X = tf.placeholder(\"float\", [None, n_input])\n",
        "Y = tf.placeholder(tf.float32, [None, n_classes])\n",
        "\n",
        "Weights = {\n",
        "    'w1': tf.Variable(tf.random_normal(shape=[n_input, n_hidden1])),\n",
        "    'w2': tf.Variable(tf.random_normal(shape=[n_hidden1, n_hidden2])),\n",
        "    'w_out': tf.Variable(tf.random_normal(shape=[n_hidden2, n_classes]))\n",
        "}\n",
        "\n",
        "Bias = {\n",
        "    'b1': tf.Variable(tf.random_normal([n_hidden1])),\n",
        "    'b2': tf.Variable(tf.random_normal([n_hidden2])),\n",
        "    'b_out': tf.Variable(tf.random_normal([n_classes]))\n",
        "}   \n"
      ],
      "execution_count": 0,
      "outputs": [
        {
          "output_type": "stream",
          "text": [
            "Extracting /data/train-images-idx3-ubyte.gz\n",
            "Extracting /data/train-labels-idx1-ubyte.gz\n",
            "Extracting /data/t10k-images-idx3-ubyte.gz\n",
            "Extracting /data/t10k-labels-idx1-ubyte.gz\n"
          ],
          "name": "stdout"
        }
      ]
    },
    {
      "cell_type": "code",
      "metadata": {
        "id": "QcDtGoxXCMdE",
        "colab_type": "code",
        "colab": {}
      },
      "source": [
        "def mlp(x):\n",
        "  layer_1 = tf.nn.sigmoid(tf.add(tf.matmul(x, Weights['w1']), Bias['b1']))\n",
        "  layer_2 = tf.nn.sigmoid(tf.add(tf.matmul(layer_1, Weights['w2']), Bias['b2'])) \n",
        "  out_layer = (tf.add(tf.matmul(layer_2, Weights['w_out']), Bias['b_out']))\n",
        "  return out_layer"
      ],
      "execution_count": 0,
      "outputs": []
    },
    {
      "cell_type": "code",
      "metadata": {
        "id": "TtaL9z_3Gr9Z",
        "colab_type": "code",
        "colab": {}
      },
      "source": [
        "logits = mlp(X)"
      ],
      "execution_count": 0,
      "outputs": []
    },
    {
      "cell_type": "code",
      "metadata": {
        "id": "QnMHVliRG1qn",
        "colab_type": "code",
        "colab": {}
      },
      "source": [
        "loss = tf.reduce_mean(tf.nn.sigmoid_cross_entropy_with_logits(logits=logits, labels=Y))\n",
        "optimizer = tf.train.AdamOptimizer(learning_rate=learning_rate).minimize(loss)"
      ],
      "execution_count": 0,
      "outputs": []
    },
    {
      "cell_type": "code",
      "metadata": {
        "id": "6WTdfRWRHOtP",
        "colab_type": "code",
        "colab": {}
      },
      "source": [
        "init = tf.global_variables_initializer()"
      ],
      "execution_count": 0,
      "outputs": []
    },
    {
      "cell_type": "code",
      "metadata": {
        "id": "zLb3Se5_IPNe",
        "colab_type": "code",
        "outputId": "72fa0df9-e08f-4d74-de92-02d71658d382",
        "colab": {
          "base_uri": "https://localhost:8080/",
          "height": 746
        }
      },
      "source": [
        "with tf.Session() as sess:\n",
        "  sess.run(init)\n",
        "\n",
        "  for epoch in range(training_epochs):\n",
        "    avg_cost = 0\n",
        "    total_batch = int(len(mnist.train.images) / batch_size)\n",
        "\n",
        "    for i in range(total_batch):\n",
        "      batch_x, batch_y = mnist.train.next_batch(batch_size)\n",
        "      _, c = sess.run([optimizer, loss], feed_dict={X: batch_x, Y: batch_y})\n",
        "      avg_cost += c / total_batch\n",
        "    if epoch % display_step == 0:\n",
        "      print(\"Epoch:\", '%04d' % (epoch+1), \"cost={:.9f}\".format(avg_cost))\n",
        "  print(\"Optimization Finished!\")\n",
        "\n",
        "\n",
        "  # Test model\n",
        "  pred = tf.nn.softmax(logits)\n",
        "  correct_prediction = tf.equal(tf.argmax(pred, 1), tf.argmax(Y, 1))\n",
        "  # Calculate accuracy\n",
        "  accuracy = tf.reduce_mean(tf.cast(correct_prediction, \"float\"))\n",
        "  print(\"Accuracy:\", accuracy.eval({X: mnist.test.images, Y: mnist.test.labels}))"
      ],
      "execution_count": 0,
      "outputs": [
        {
          "output_type": "stream",
          "text": [
            "Epoch: 0001 cost=0.360127193\n",
            "Epoch: 0002 cost=0.110682465\n",
            "Epoch: 0003 cost=0.078756666\n",
            "Epoch: 0004 cost=0.061665283\n",
            "Epoch: 0005 cost=0.050394546\n",
            "Epoch: 0006 cost=0.042115584\n",
            "Epoch: 0007 cost=0.035667924\n",
            "Epoch: 0008 cost=0.030434239\n",
            "Epoch: 0009 cost=0.026328876\n",
            "Epoch: 0010 cost=0.022763813\n",
            "Epoch: 0011 cost=0.019742213\n",
            "Epoch: 0012 cost=0.017167559\n",
            "Epoch: 0013 cost=0.014943977\n",
            "Epoch: 0014 cost=0.012914312\n",
            "Epoch: 0015 cost=0.011221422\n",
            "Epoch: 0016 cost=0.009758730\n",
            "Epoch: 0017 cost=0.008405861\n",
            "Epoch: 0018 cost=0.007200599\n",
            "Epoch: 0019 cost=0.006233728\n",
            "Epoch: 0020 cost=0.005324641\n",
            "Epoch: 0021 cost=0.004561064\n",
            "Epoch: 0022 cost=0.003882995\n",
            "Epoch: 0023 cost=0.003268681\n",
            "Epoch: 0024 cost=0.002748191\n",
            "Epoch: 0025 cost=0.002330449\n",
            "Epoch: 0026 cost=0.001996438\n",
            "Epoch: 0027 cost=0.001684899\n",
            "Epoch: 0028 cost=0.001408886\n",
            "Epoch: 0029 cost=0.001184141\n",
            "Epoch: 0030 cost=0.000995112\n",
            "Epoch: 0031 cost=0.000843352\n",
            "Epoch: 0032 cost=0.000689570\n",
            "Epoch: 0033 cost=0.000590285\n",
            "Epoch: 0034 cost=0.000481124\n",
            "Epoch: 0035 cost=0.000408522\n",
            "Epoch: 0036 cost=0.000343492\n",
            "Epoch: 0037 cost=0.000283023\n",
            "Epoch: 0038 cost=0.000234283\n",
            "Epoch: 0039 cost=0.000208546\n",
            "Epoch: 0040 cost=0.000176722\n",
            "Optimization Finished!\n",
            "Accuracy: 0.9621\n"
          ],
          "name": "stdout"
        }
      ]
    },
    {
      "cell_type": "code",
      "metadata": {
        "id": "eYe_ZlIONOSy",
        "colab_type": "code",
        "colab": {}
      },
      "source": [
        ""
      ],
      "execution_count": 0,
      "outputs": []
    }
  ]
}